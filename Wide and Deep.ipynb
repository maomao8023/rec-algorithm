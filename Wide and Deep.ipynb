{
 "cells": [
  {
   "cell_type": "code",
   "execution_count": 2,
   "id": "a26bed10",
   "metadata": {
    "ExecuteTime": {
     "end_time": "2022-02-17T13:10:13.300616Z",
     "start_time": "2022-02-17T13:10:11.136778Z"
    }
   },
   "outputs": [],
   "source": [
    "import torch.nn as nn"
   ]
  },
  {
   "cell_type": "code",
   "execution_count": 3,
   "id": "81dc8301",
   "metadata": {
    "ExecuteTime": {
     "end_time": "2022-02-17T13:10:13.305570Z",
     "start_time": "2022-02-17T13:10:13.301772Z"
    }
   },
   "outputs": [],
   "source": [
    "class Linear(nn.Module):\n",
    "    \"\"\"\n",
    "    Linear part\n",
    "    \"\"\"\n",
    "    def __init__(self, input_dim):\n",
    "        super(Linear, self).__init__()\n",
    "        self.linear = nn.Linear(in_features=input_dim, out_features=1)\n",
    "    \n",
    "    def forward(self, x):\n",
    "        return self.linear(x)\n",
    "\n",
    "class Dnn(nn.Module):\n",
    "    \"\"\"\n",
    "    Dnn part\n",
    "    \"\"\"\n",
    "    def __init__(self, hidden_units, dropout=0.):\n",
    "        \"\"\"\n",
    "        hidden_units\n",
    "        hidden_units:[221, 256, 128, 64]\n",
    "        列表， 每个元素表示每一层的神经单元个数，\n",
    "        比如[256, 128, 64], 两层网络， 第一层神经单元128， 第二层64， 第一个维度是输入维度\n",
    "        dropout: 失活率\n",
    "        \"\"\"\n",
    "        super(Dnn, self).__init__()\n",
    "        \n",
    "        self.dnn_network = nn.ModuleList([nn.Linear(layer[0], layer[1]) for layer in list(zip(hidden_units[:-1], hidden_units[1:]))])\n",
    "        self.dropout = nn.Dropout(p=dropout)\n",
    "    \n",
    "    def forward(self, x):\n",
    "        \n",
    "        for linear in self.dnn_network:\n",
    "            x = linear(x)\n",
    "            x = F.relu(x)\n",
    "        \n",
    "        x = self.dropout(x)\n",
    "        return x"
   ]
  },
  {
   "cell_type": "code",
   "execution_count": 4,
   "id": "9872031a",
   "metadata": {
    "ExecuteTime": {
     "end_time": "2022-02-17T13:10:18.347433Z",
     "start_time": "2022-02-17T13:10:18.253751Z"
    }
   },
   "outputs": [],
   "source": [
    "class WideDeep(nn.Module):\n",
    "    def __init__(self, feature_columns, hidden_units, dnn_dropout=0.):\n",
    "        super(WideDeep, self).__init__()\n",
    "        self.dense_feature_cols, self.sparse_feature_cols = feature_columns\n",
    "        # embedding \n",
    "        self.embed_layers = nn.ModuleDict({\n",
    "            'embed_' + str(i): nn.Embedding(num_embeddings=feat['feat_num'], embedding_dim=feat['embed_dim'])\n",
    "            for i, feat in enumerate(self.sparse_feature_cols)\n",
    "        })\n",
    "        hidden_units.insert(0, len(self.dense_feature_cols) + len(self.sparse_feature_cols)*self.sparse_feature_cols[0]['embed_dim'])\n",
    "        print(\"hidden_units:{}\".format(hidden_units))\n",
    "        self.dnn_network = Dnn(hidden_units) #三层神经网络 [(221, 256), (256, 128), (128, 64)]\n",
    "        self.linear = Linear(len(self.dense_feature_cols)) #13\n",
    "        self.final_linear = nn.Linear(hidden_units[-1], 1) #nn.Linear(64, 1)\n",
    "    \n",
    "    def forward(self, x):\n",
    "        dense_input, sparse_inputs = x[:, :len(self.dense_feature_cols)], x[:, len(self.dense_feature_cols):]\n",
    "        sparse_inputs = sparse_inputs.long() #26\n",
    "        sparse_embeds = [self.embed_layers['embed_'+str(i)](sparse_inputs[:, i]) for i in range(sparse_inputs.shape[1])]\n",
    "        sparse_embeds = torch.cat(sparse_embeds, axis=-1) #28组 每组32行 8列 类别的embedding\n",
    "\n",
    "        dnn_input = torch.cat([sparse_embeds, dense_input], axis=-1)\n",
    "        \n",
    "        # Wide\n",
    "        wide_out = self.linear(dense_input)\n",
    "        \n",
    "        # Deep\n",
    "        deep_out = self.dnn_network(dnn_input)\n",
    "        deep_out = self.final_linear(deep_out)\n",
    "        \n",
    "        # out\n",
    "        outputs = F.sigmoid(0.5 * (wide_out + deep_out))\n",
    "        \n",
    "        return outputs  "
   ]
  },
  {
   "cell_type": "code",
   "execution_count": null,
   "id": "3e2309a3",
   "metadata": {},
   "outputs": [],
   "source": []
  }
 ],
 "metadata": {
  "kernelspec": {
   "display_name": "Python 3",
   "language": "python",
   "name": "python3"
  },
  "language_info": {
   "codemirror_mode": {
    "name": "ipython",
    "version": 3
   },
   "file_extension": ".py",
   "mimetype": "text/x-python",
   "name": "python",
   "nbconvert_exporter": "python",
   "pygments_lexer": "ipython3",
   "version": "3.9.10"
  }
 },
 "nbformat": 4,
 "nbformat_minor": 5
}
